{
  "cells": [
    {
      "cell_type": "markdown",
      "id": "19cb1af8-afbe-4600-8d1b-6613201ba309",
      "metadata": {
        "id": "19cb1af8-afbe-4600-8d1b-6613201ba309"
      },
      "source": [
        "# Análisis de noiticias"
      ]
    },
    {
      "cell_type": "markdown",
      "id": "c01f740a-0c0d-4b30-a1fb-05ee69306782",
      "metadata": {
        "id": "c01f740a-0c0d-4b30-a1fb-05ee69306782"
      },
      "source": [
        "## Preparación de ambiente"
      ]
    },
    {
      "cell_type": "markdown",
      "id": "a205aee6-bb25-43b1-9e8c-be1a2356d224",
      "metadata": {
        "id": "a205aee6-bb25-43b1-9e8c-be1a2356d224"
      },
      "source": [
        "### Carga de módulos"
      ]
    },
    {
      "cell_type": "code",
      "execution_count": null,
      "id": "898ac2b5-0c04-40f6-a951-d3592abe65a4",
      "metadata": {
        "execution": {
          "iopub.execute_input": "2022-04-27T14:29:55.700377Z",
          "iopub.status.busy": "2022-04-27T14:29:55.700160Z",
          "iopub.status.idle": "2022-04-27T14:29:55.707141Z",
          "shell.execute_reply": "2022-04-27T14:29:55.706238Z",
          "shell.execute_reply.started": "2022-04-27T14:29:55.700352Z"
        },
        "id": "898ac2b5-0c04-40f6-a951-d3592abe65a4",
        "outputId": "83faf94b-f9b4-42d3-8c70-5413a7b85dd8",
        "tags": []
      },
      "outputs": [
        {
          "data": {
            "text/html": [
              "        <script type=\"text/javascript\">\n",
              "        window.PlotlyConfig = {MathJaxConfig: 'local'};\n",
              "        if (window.MathJax) {MathJax.Hub.Config({SVG: {font: \"STIX-Web\"}});}\n",
              "        if (typeof require !== 'undefined') {\n",
              "        require.undef(\"plotly\");\n",
              "        requirejs.config({\n",
              "            paths: {\n",
              "                'plotly': ['https://cdn.plot.ly/plotly-2.9.0.min']\n",
              "            }\n",
              "        });\n",
              "        require(['plotly'], function(Plotly) {\n",
              "            window._Plotly = Plotly;\n",
              "        });\n",
              "        }\n",
              "        </script>\n",
              "        "
            ]
          },
          "metadata": {},
          "output_type": "display_data"
        }
      ],
      "source": [
        "# Data Wrangling\n",
        "import pandas as pd\n",
        "\n",
        "# Data Visualization\n",
        "import cufflinks as cf\n",
        "\n",
        "# Modeling\n",
        "from sklearn.linear_model import LinearRegression\n",
        "\n",
        "# Model performance\n",
        "from sklearn.metrics import r2_score\n",
        "\n",
        "cf.go_offline()"
      ]
    },
    {
      "cell_type": "markdown",
      "id": "73b0ecb7-c324-470b-b8f0-525d4161d142",
      "metadata": {
        "id": "73b0ecb7-c324-470b-b8f0-525d4161d142"
      },
      "source": [
        "## Data Wrangling"
      ]
    },
    {
      "cell_type": "markdown",
      "id": "bf24c670-1075-4efe-a0ee-d46138f15d55",
      "metadata": {
        "id": "bf24c670-1075-4efe-a0ee-d46138f15d55"
      },
      "source": [
        "### Carga de Datos"
      ]
    },
    {
      "cell_type": "code",
      "execution_count": null,
      "id": "f8f93750-d060-4075-b9f5-36f9bf9e2b74",
      "metadata": {
        "execution": {
          "iopub.execute_input": "2022-04-27T14:32:04.512863Z",
          "iopub.status.busy": "2022-04-27T14:32:04.511430Z",
          "iopub.status.idle": "2022-04-27T14:32:05.125813Z",
          "shell.execute_reply": "2022-04-27T14:32:05.124078Z",
          "shell.execute_reply.started": "2022-04-27T14:32:04.512781Z"
        },
        "id": "f8f93750-d060-4075-b9f5-36f9bf9e2b74",
        "tags": []
      },
      "outputs": [],
      "source": [
        "df = pd.read_csv(\"./OnlineNewsPopularity.csv\")"
      ]
    },
    {
      "cell_type": "code",
      "execution_count": null,
      "id": "f480e5dc-5c7b-4466-8fd7-591853bc81f7",
      "metadata": {
        "execution": {
          "iopub.execute_input": "2022-04-27T14:33:54.547518Z",
          "iopub.status.busy": "2022-04-27T14:33:54.547307Z",
          "iopub.status.idle": "2022-04-27T14:33:54.552838Z",
          "shell.execute_reply": "2022-04-27T14:33:54.552063Z",
          "shell.execute_reply.started": "2022-04-27T14:33:54.547494Z"
        },
        "id": "f480e5dc-5c7b-4466-8fd7-591853bc81f7",
        "outputId": "36960c1b-07d4-4dbd-e215-5dbc60475e31",
        "tags": []
      },
      "outputs": [
        {
          "data": {
            "text/plain": [
              "'http://mashable.com/2013/01/07/amazon-instant-video-browser/'"
            ]
          },
          "execution_count": 8,
          "metadata": {},
          "output_type": "execute_result"
        }
      ],
      "source": [
        "df.loc[0, \"url\"]"
      ]
    },
    {
      "cell_type": "code",
      "execution_count": null,
      "id": "95cbf5bc-c520-423e-8889-af68e4ad4807",
      "metadata": {
        "execution": {
          "iopub.execute_input": "2022-04-27T14:32:39.395119Z",
          "iopub.status.busy": "2022-04-27T14:32:39.394755Z",
          "iopub.status.idle": "2022-04-27T14:32:39.400240Z",
          "shell.execute_reply": "2022-04-27T14:32:39.398599Z",
          "shell.execute_reply.started": "2022-04-27T14:32:39.395070Z"
        },
        "id": "95cbf5bc-c520-423e-8889-af68e4ad4807",
        "tags": []
      },
      "outputs": [],
      "source": [
        "df.columns = [x.strip() for x in df.columns]"
      ]
    },
    {
      "cell_type": "code",
      "execution_count": null,
      "id": "e36e1e63-81e1-40b3-be6a-0292cdffba63",
      "metadata": {
        "execution": {
          "iopub.execute_input": "2022-04-27T14:32:48.781641Z",
          "iopub.status.busy": "2022-04-27T14:32:48.781306Z",
          "iopub.status.idle": "2022-04-27T14:32:49.048251Z",
          "shell.execute_reply": "2022-04-27T14:32:49.047763Z",
          "shell.execute_reply.started": "2022-04-27T14:32:48.781615Z"
        },
        "id": "e36e1e63-81e1-40b3-be6a-0292cdffba63",
        "tags": []
      },
      "outputs": [],
      "source": [
        "df.info(memory_usage=\"deep\")"
      ]
    },
    {
      "cell_type": "markdown",
      "id": "eb503ec3-6715-456e-82b9-bbc76a3de9ae",
      "metadata": {
        "id": "eb503ec3-6715-456e-82b9-bbc76a3de9ae"
      },
      "source": [
        "### Clasificación de variables"
      ]
    },
    {
      "cell_type": "code",
      "execution_count": null,
      "id": "d17e7f37-f0bf-4f12-a143-b3eb1c00826a",
      "metadata": {
        "execution": {
          "iopub.execute_input": "2022-04-27T14:34:35.633228Z",
          "iopub.status.busy": "2022-04-27T14:34:35.632702Z",
          "iopub.status.idle": "2022-04-27T14:34:35.636905Z",
          "shell.execute_reply": "2022-04-27T14:34:35.636151Z",
          "shell.execute_reply.started": "2022-04-27T14:34:35.633196Z"
        },
        "id": "d17e7f37-f0bf-4f12-a143-b3eb1c00826a",
        "tags": []
      },
      "outputs": [],
      "source": [
        "ls_cont = [x for x in df.columns if x not in [\"shares\", \"url\", \"timedelta\"]]\n",
        "target = \"shares\""
      ]
    },
    {
      "cell_type": "markdown",
      "id": "2844314d-6e26-4270-aaf3-b79025511c5a",
      "metadata": {
        "id": "2844314d-6e26-4270-aaf3-b79025511c5a"
      },
      "source": [
        "### Limpieza"
      ]
    },
    {
      "cell_type": "code",
      "execution_count": null,
      "id": "d39d8261-6dad-4a75-9cf5-dad13d08fc3f",
      "metadata": {
        "execution": {
          "iopub.execute_input": "2022-04-27T14:34:38.158776Z",
          "iopub.status.busy": "2022-04-27T14:34:38.158111Z",
          "iopub.status.idle": "2022-04-27T14:34:38.198218Z",
          "shell.execute_reply": "2022-04-27T14:34:38.197514Z",
          "shell.execute_reply.started": "2022-04-27T14:34:38.158711Z"
        },
        "id": "d39d8261-6dad-4a75-9cf5-dad13d08fc3f",
        "tags": []
      },
      "outputs": [],
      "source": [
        "df[ls_cont].isna().mean().to_frame()"
      ]
    },
    {
      "cell_type": "code",
      "execution_count": null,
      "id": "4b1f262b-d242-4c37-8e9c-5899e001718e",
      "metadata": {
        "execution": {
          "iopub.execute_input": "2022-04-27T14:35:00.842191Z",
          "iopub.status.busy": "2022-04-27T14:35:00.841912Z",
          "iopub.status.idle": "2022-04-27T14:35:00.927500Z",
          "shell.execute_reply": "2022-04-27T14:35:00.926812Z",
          "shell.execute_reply.started": "2022-04-27T14:35:00.842165Z"
        },
        "id": "4b1f262b-d242-4c37-8e9c-5899e001718e",
        "tags": []
      },
      "outputs": [],
      "source": [
        "df[ls_cont].nunique().sort_values().to_frame()"
      ]
    },
    {
      "cell_type": "code",
      "execution_count": null,
      "id": "01d527bf-e7d6-433e-83e7-b6dd2b72bb70",
      "metadata": {
        "execution": {
          "iopub.execute_input": "2022-04-27T14:35:09.577616Z",
          "iopub.status.busy": "2022-04-27T14:35:09.577345Z",
          "iopub.status.idle": "2022-04-27T14:35:13.959550Z",
          "shell.execute_reply": "2022-04-27T14:35:13.958865Z",
          "shell.execute_reply.started": "2022-04-27T14:35:09.577586Z"
        },
        "id": "01d527bf-e7d6-433e-83e7-b6dd2b72bb70",
        "outputId": "2b556384-098c-4f85-926d-b72ec16169ff",
        "tags": []
      },
      "outputs": [
        {
          "name": "stdout",
          "output_type": "stream",
          "text": [
            "53.5 ms ± 1.77 ms per loop (mean ± std. dev. of 7 runs, 10 loops each)\n"
          ]
        }
      ],
      "source": [
        "%%timeit\n",
        "df[ls_cont].nunique()"
      ]
    },
    {
      "cell_type": "code",
      "execution_count": null,
      "id": "0c0dbc16-a8ef-49fd-8f65-1453b22c7212",
      "metadata": {
        "execution": {
          "iopub.execute_input": "2022-04-27T14:35:13.960796Z",
          "iopub.status.busy": "2022-04-27T14:35:13.960555Z",
          "iopub.status.idle": "2022-04-27T14:35:18.138262Z",
          "shell.execute_reply": "2022-04-27T14:35:18.137624Z",
          "shell.execute_reply.started": "2022-04-27T14:35:13.960772Z"
        },
        "id": "0c0dbc16-a8ef-49fd-8f65-1453b22c7212",
        "outputId": "3f7eb3d8-928e-49cf-aa03-9b681573111a",
        "tags": []
      },
      "outputs": [
        {
          "name": "stdout",
          "output_type": "stream",
          "text": [
            "51.3 ms ± 1.26 ms per loop (mean ± std. dev. of 7 runs, 10 loops each)\n"
          ]
        }
      ],
      "source": [
        "%%timeit\n",
        "df[ls_cont].apply(lambda x: len(x.unique()))"
      ]
    },
    {
      "cell_type": "code",
      "execution_count": null,
      "id": "2d42aee5-df26-4e92-93ff-0a3f9b253b34",
      "metadata": {
        "execution": {
          "iopub.execute_input": "2022-04-27T14:35:53.685127Z",
          "iopub.status.busy": "2022-04-27T14:35:53.684561Z",
          "iopub.status.idle": "2022-04-27T14:35:54.445391Z",
          "shell.execute_reply": "2022-04-27T14:35:54.444439Z",
          "shell.execute_reply.started": "2022-04-27T14:35:53.685095Z"
        },
        "id": "2d42aee5-df26-4e92-93ff-0a3f9b253b34"
      },
      "outputs": [],
      "source": [
        "df[target].iplot(kind=\"hist\", theme=\"solar\")"
      ]
    },
    {
      "cell_type": "code",
      "execution_count": null,
      "id": "fbf86021-18cd-4da6-873c-58f4feca5b85",
      "metadata": {
        "execution": {
          "iopub.execute_input": "2022-04-27T14:36:32.765543Z",
          "iopub.status.busy": "2022-04-27T14:36:32.765229Z",
          "iopub.status.idle": "2022-04-27T14:36:32.922239Z",
          "shell.execute_reply": "2022-04-27T14:36:32.921677Z",
          "shell.execute_reply.started": "2022-04-27T14:36:32.765516Z"
        },
        "id": "fbf86021-18cd-4da6-873c-58f4feca5b85",
        "tags": []
      },
      "outputs": [],
      "source": [
        "df[target].describe(percentiles=[0.95, 0.99])"
      ]
    },
    {
      "cell_type": "markdown",
      "id": "2ab2e495-400a-4f91-8416-70cc4fcfdba4",
      "metadata": {
        "id": "2ab2e495-400a-4f91-8416-70cc4fcfdba4"
      },
      "source": [
        "#### Outliers"
      ]
    },
    {
      "cell_type": "code",
      "execution_count": null,
      "id": "5cc65a77-898c-4a01-9b33-3e61f61e0941",
      "metadata": {
        "execution": {
          "iopub.execute_input": "2022-04-27T14:37:49.470343Z",
          "iopub.status.busy": "2022-04-27T14:37:49.470035Z",
          "iopub.status.idle": "2022-04-27T14:37:49.566553Z",
          "shell.execute_reply": "2022-04-27T14:37:49.565803Z",
          "shell.execute_reply.started": "2022-04-27T14:37:49.470306Z"
        },
        "id": "5cc65a77-898c-4a01-9b33-3e61f61e0941",
        "tags": []
      },
      "outputs": [],
      "source": [
        "dc_ol = {variable: df[variable].quantile(0.99) for variable in ls_cont+[target]}"
      ]
    },
    {
      "cell_type": "code",
      "execution_count": null,
      "id": "94674eae-3a2e-4a9a-a6f2-63a4b685ad5e",
      "metadata": {
        "execution": {
          "iopub.execute_input": "2022-04-27T14:37:54.510508Z",
          "iopub.status.busy": "2022-04-27T14:37:54.510207Z",
          "iopub.status.idle": "2022-04-27T14:37:54.515792Z",
          "shell.execute_reply": "2022-04-27T14:37:54.515035Z",
          "shell.execute_reply.started": "2022-04-27T14:37:54.510482Z"
        },
        "id": "94674eae-3a2e-4a9a-a6f2-63a4b685ad5e"
      },
      "outputs": [],
      "source": [
        "dc_ol"
      ]
    },
    {
      "cell_type": "code",
      "execution_count": null,
      "id": "14eceb9a-d845-41ef-8cc4-03762a5a55c1",
      "metadata": {
        "execution": {
          "iopub.execute_input": "2022-04-27T14:38:03.767752Z",
          "iopub.status.busy": "2022-04-27T14:38:03.767304Z",
          "iopub.status.idle": "2022-04-27T14:38:03.778173Z",
          "shell.execute_reply": "2022-04-27T14:38:03.777363Z",
          "shell.execute_reply.started": "2022-04-27T14:38:03.767724Z"
        },
        "id": "14eceb9a-d845-41ef-8cc4-03762a5a55c1",
        "tags": []
      },
      "outputs": [],
      "source": [
        "aux = df.copy()"
      ]
    },
    {
      "cell_type": "code",
      "execution_count": null,
      "id": "93825eed-57f1-459a-a6f1-4ca440c732e3",
      "metadata": {
        "execution": {
          "iopub.execute_input": "2022-04-27T14:38:05.332527Z",
          "iopub.status.busy": "2022-04-27T14:38:05.332132Z",
          "iopub.status.idle": "2022-04-27T14:38:05.723007Z",
          "shell.execute_reply": "2022-04-27T14:38:05.722326Z",
          "shell.execute_reply.started": "2022-04-27T14:38:05.332488Z"
        },
        "id": "93825eed-57f1-459a-a6f1-4ca440c732e3",
        "tags": []
      },
      "outputs": [],
      "source": [
        "for variable, bound in dc_ol.items():\n",
        "    aux = aux[aux[variable]<=bound]"
      ]
    },
    {
      "cell_type": "code",
      "execution_count": null,
      "id": "7e5d0eb1-0442-4fd9-98f5-c357005b2727",
      "metadata": {
        "execution": {
          "iopub.execute_input": "2022-04-27T14:38:23.777896Z",
          "iopub.status.busy": "2022-04-27T14:38:23.777611Z",
          "iopub.status.idle": "2022-04-27T14:38:23.782483Z",
          "shell.execute_reply": "2022-04-27T14:38:23.781836Z",
          "shell.execute_reply.started": "2022-04-27T14:38:23.777871Z"
        },
        "id": "7e5d0eb1-0442-4fd9-98f5-c357005b2727",
        "outputId": "522bb91c-028a-4712-95bd-be599dc491e9",
        "tags": []
      },
      "outputs": [
        {
          "data": {
            "text/plain": [
              "(31221, 61)"
            ]
          },
          "execution_count": 20,
          "metadata": {},
          "output_type": "execute_result"
        }
      ],
      "source": [
        "aux.shape"
      ]
    },
    {
      "cell_type": "code",
      "execution_count": null,
      "id": "d663252e-3279-4d86-80b6-1af12859535b",
      "metadata": {
        "execution": {
          "iopub.execute_input": "2022-04-27T14:38:24.145404Z",
          "iopub.status.busy": "2022-04-27T14:38:24.145105Z",
          "iopub.status.idle": "2022-04-27T14:38:24.150115Z",
          "shell.execute_reply": "2022-04-27T14:38:24.149319Z",
          "shell.execute_reply.started": "2022-04-27T14:38:24.145379Z"
        },
        "id": "d663252e-3279-4d86-80b6-1af12859535b",
        "outputId": "b06c741d-e830-4a47-b974-c224687aeec5",
        "tags": []
      },
      "outputs": [
        {
          "data": {
            "text/plain": [
              "0.7875340530723438"
            ]
          },
          "execution_count": 21,
          "metadata": {},
          "output_type": "execute_result"
        }
      ],
      "source": [
        "(df.shape[0] / aux.shape[0])**-1"
      ]
    },
    {
      "cell_type": "code",
      "execution_count": null,
      "id": "2fe5141f-1375-406c-a895-82ea0db45e1a",
      "metadata": {
        "execution": {
          "iopub.execute_input": "2022-04-27T14:38:49.876287Z",
          "iopub.status.busy": "2022-04-27T14:38:49.875957Z",
          "iopub.status.idle": "2022-04-27T14:38:49.895680Z",
          "shell.execute_reply": "2022-04-27T14:38:49.895138Z",
          "shell.execute_reply.started": "2022-04-27T14:38:49.876259Z"
        },
        "id": "2fe5141f-1375-406c-a895-82ea0db45e1a",
        "tags": []
      },
      "outputs": [],
      "source": [
        "df = df[df[target]<=dc_ol[target]].reset_index(drop=True)"
      ]
    },
    {
      "cell_type": "code",
      "execution_count": null,
      "id": "0fe08419-0b38-477e-8a83-1f49b6eb845e",
      "metadata": {
        "execution": {
          "iopub.execute_input": "2022-04-27T14:39:02.035449Z",
          "iopub.status.busy": "2022-04-27T14:39:02.035177Z",
          "iopub.status.idle": "2022-04-27T14:39:02.044607Z",
          "shell.execute_reply": "2022-04-27T14:39:02.043891Z",
          "shell.execute_reply.started": "2022-04-27T14:39:02.035422Z"
        },
        "id": "0fe08419-0b38-477e-8a83-1f49b6eb845e",
        "tags": []
      },
      "outputs": [],
      "source": [
        "X = df[ls_cont]\n",
        "y = df[target]"
      ]
    },
    {
      "cell_type": "code",
      "execution_count": null,
      "id": "8d9b5632-5544-4423-8807-2ad454457747",
      "metadata": {
        "execution": {
          "iopub.execute_input": "2022-04-27T14:40:13.614116Z",
          "iopub.status.busy": "2022-04-27T14:40:13.613812Z",
          "iopub.status.idle": "2022-04-27T14:40:13.620006Z",
          "shell.execute_reply": "2022-04-27T14:40:13.619316Z",
          "shell.execute_reply.started": "2022-04-27T14:40:13.614080Z"
        },
        "id": "8d9b5632-5544-4423-8807-2ad454457747",
        "tags": []
      },
      "outputs": [],
      "source": [
        "X.columns"
      ]
    },
    {
      "cell_type": "markdown",
      "id": "77bba445-79ac-4557-abc0-b771dd5e75ba",
      "metadata": {
        "id": "77bba445-79ac-4557-abc0-b771dd5e75ba"
      },
      "source": [
        "## Modelado"
      ]
    },
    {
      "cell_type": "code",
      "execution_count": null,
      "id": "d9ab87e7-e41a-4d50-af7b-2d0ec8cec924",
      "metadata": {
        "execution": {
          "iopub.execute_input": "2022-04-27T14:41:42.329437Z",
          "iopub.status.busy": "2022-04-27T14:41:42.328009Z",
          "iopub.status.idle": "2022-04-27T14:41:42.790088Z",
          "shell.execute_reply": "2022-04-27T14:41:42.789387Z",
          "shell.execute_reply.started": "2022-04-27T14:41:42.329348Z"
        },
        "id": "d9ab87e7-e41a-4d50-af7b-2d0ec8cec924",
        "tags": []
      },
      "outputs": [],
      "source": [
        "df['title_sentiment_polarity'].iplot(kind=\"hist\", theme=\"solar\")"
      ]
    },
    {
      "cell_type": "code",
      "execution_count": null,
      "id": "cc7f4d05-48d4-4a17-bbc1-d83e87f80c07",
      "metadata": {
        "execution": {
          "iopub.execute_input": "2022-04-27T14:41:50.122039Z",
          "iopub.status.busy": "2022-04-27T14:41:50.121749Z",
          "iopub.status.idle": "2022-04-27T14:41:50.133329Z",
          "shell.execute_reply": "2022-04-27T14:41:50.132667Z",
          "shell.execute_reply.started": "2022-04-27T14:41:50.122012Z"
        },
        "id": "cc7f4d05-48d4-4a17-bbc1-d83e87f80c07",
        "tags": []
      },
      "outputs": [],
      "source": [
        "df[['global_rate_positive_words', 'global_rate_negative_words']]"
      ]
    },
    {
      "cell_type": "code",
      "execution_count": null,
      "id": "8b0ee12e-8ed9-40ec-9c8e-f1818f710e1b",
      "metadata": {
        "execution": {
          "iopub.execute_input": "2022-04-27T14:42:08.822271Z",
          "iopub.status.busy": "2022-04-27T14:42:08.821936Z",
          "iopub.status.idle": "2022-04-27T14:42:08.828074Z",
          "shell.execute_reply": "2022-04-27T14:42:08.827296Z",
          "shell.execute_reply.started": "2022-04-27T14:42:08.822242Z"
        },
        "id": "8b0ee12e-8ed9-40ec-9c8e-f1818f710e1b",
        "outputId": "5dfeb90c-9bf9-4c5b-d6c2-1e70018ed51f",
        "tags": []
      },
      "outputs": [
        {
          "data": {
            "text/plain": [
              "(58,)"
            ]
          },
          "execution_count": 30,
          "metadata": {},
          "output_type": "execute_result"
        }
      ],
      "source": [
        "X.columns.shape"
      ]
    },
    {
      "cell_type": "markdown",
      "id": "e551dd2b-e1e5-42ac-aa9c-1b8ea8b48326",
      "metadata": {
        "id": "e551dd2b-e1e5-42ac-aa9c-1b8ea8b48326"
      },
      "source": [
        "### Selección de variables"
      ]
    },
    {
      "cell_type": "code",
      "execution_count": null,
      "id": "0aecbce0-5c48-49a8-9c4c-c0091ec3b83e",
      "metadata": {
        "execution": {
          "iopub.execute_input": "2022-04-27T14:42:38.945980Z",
          "iopub.status.busy": "2022-04-27T14:42:38.945682Z",
          "iopub.status.idle": "2022-04-27T14:42:38.950160Z",
          "shell.execute_reply": "2022-04-27T14:42:38.949417Z",
          "shell.execute_reply.started": "2022-04-27T14:42:38.945946Z"
        },
        "id": "0aecbce0-5c48-49a8-9c4c-c0091ec3b83e"
      },
      "outputs": [],
      "source": [
        "ls_features = ['n_tokens_title', \n",
        "               'n_tokens_content', \n",
        "               'num_hrefs', \n",
        "               'num_imgs', \n",
        "               'num_videos', \n",
        "               'is_weekend', \n",
        "               'title_sentiment_polarity', \n",
        "               'global_sentiment_polarity', \n",
        "               'num_keywords', \n",
        "               'global_rate_positive_words']"
      ]
    },
    {
      "cell_type": "markdown",
      "id": "6d86c3ee-7b25-4171-b068-1fcb12c24dac",
      "metadata": {
        "id": "6d86c3ee-7b25-4171-b068-1fcb12c24dac"
      },
      "source": [
        "#### Entrenamiento del modelo"
      ]
    },
    {
      "cell_type": "code",
      "execution_count": null,
      "id": "e61a7d93-e64b-4ae3-a315-5168c0b6d08b",
      "metadata": {
        "execution": {
          "iopub.execute_input": "2022-04-27T14:42:41.389284Z",
          "iopub.status.busy": "2022-04-27T14:42:41.388901Z",
          "iopub.status.idle": "2022-04-27T14:42:41.393913Z",
          "shell.execute_reply": "2022-04-27T14:42:41.393152Z",
          "shell.execute_reply.started": "2022-04-27T14:42:41.389240Z"
        },
        "id": "e61a7d93-e64b-4ae3-a315-5168c0b6d08b"
      },
      "outputs": [],
      "source": [
        "linreg = LinearRegression()"
      ]
    },
    {
      "cell_type": "code",
      "execution_count": null,
      "id": "cd70fb6e-ef0d-41f0-b590-6c28f93e2db0",
      "metadata": {
        "execution": {
          "iopub.execute_input": "2022-04-27T14:42:47.912806Z",
          "iopub.status.busy": "2022-04-27T14:42:47.912592Z",
          "iopub.status.idle": "2022-04-27T14:42:47.928907Z",
          "shell.execute_reply": "2022-04-27T14:42:47.928205Z",
          "shell.execute_reply.started": "2022-04-27T14:42:47.912782Z"
        },
        "id": "cd70fb6e-ef0d-41f0-b590-6c28f93e2db0",
        "outputId": "25064831-7761-48f7-d420-cf9020d42a73"
      },
      "outputs": [
        {
          "data": {
            "text/plain": [
              "LinearRegression()"
            ]
          },
          "execution_count": 33,
          "metadata": {},
          "output_type": "execute_result"
        }
      ],
      "source": [
        "linreg.fit(X=X[ls_features], y=y)"
      ]
    },
    {
      "cell_type": "markdown",
      "id": "1509f784-41a1-4244-902b-1baa8c20df20",
      "metadata": {
        "id": "1509f784-41a1-4244-902b-1baa8c20df20"
      },
      "source": [
        "### Interpretación"
      ]
    },
    {
      "cell_type": "code",
      "execution_count": null,
      "id": "7339dc07-e21b-4f44-990b-ede9c96767b3",
      "metadata": {
        "execution": {
          "iopub.execute_input": "2022-04-27T14:42:53.356193Z",
          "iopub.status.busy": "2022-04-27T14:42:53.355846Z",
          "iopub.status.idle": "2022-04-27T14:42:53.366547Z",
          "shell.execute_reply": "2022-04-27T14:42:53.365783Z",
          "shell.execute_reply.started": "2022-04-27T14:42:53.356156Z"
        },
        "id": "7339dc07-e21b-4f44-990b-ede9c96767b3",
        "outputId": "b9166f77-8b37-4bb6-993c-a04a8b46b5eb",
        "tags": []
      },
      "outputs": [
        {
          "data": {
            "text/html": [
              "<div>\n",
              "<style scoped>\n",
              "    .dataframe tbody tr th:only-of-type {\n",
              "        vertical-align: middle;\n",
              "    }\n",
              "\n",
              "    .dataframe tbody tr th {\n",
              "        vertical-align: top;\n",
              "    }\n",
              "\n",
              "    .dataframe thead th {\n",
              "        text-align: right;\n",
              "    }\n",
              "</style>\n",
              "<table border=\"1\" class=\"dataframe\">\n",
              "  <thead>\n",
              "    <tr style=\"text-align: right;\">\n",
              "      <th></th>\n",
              "      <th>variable</th>\n",
              "      <th>coeficient</th>\n",
              "    </tr>\n",
              "  </thead>\n",
              "  <tbody>\n",
              "    <tr>\n",
              "      <th>7</th>\n",
              "      <td>global_sentiment_polarity</td>\n",
              "      <td>-186.700074</td>\n",
              "    </tr>\n",
              "    <tr>\n",
              "      <th>0</th>\n",
              "      <td>n_tokens_title</td>\n",
              "      <td>-13.862037</td>\n",
              "    </tr>\n",
              "    <tr>\n",
              "      <th>1</th>\n",
              "      <td>n_tokens_content</td>\n",
              "      <td>-0.447227</td>\n",
              "    </tr>\n",
              "    <tr>\n",
              "      <th>2</th>\n",
              "      <td>num_hrefs</td>\n",
              "      <td>20.026217</td>\n",
              "    </tr>\n",
              "    <tr>\n",
              "      <th>3</th>\n",
              "      <td>num_imgs</td>\n",
              "      <td>31.168166</td>\n",
              "    </tr>\n",
              "    <tr>\n",
              "      <th>4</th>\n",
              "      <td>num_videos</td>\n",
              "      <td>37.635155</td>\n",
              "    </tr>\n",
              "    <tr>\n",
              "      <th>8</th>\n",
              "      <td>num_keywords</td>\n",
              "      <td>52.195306</td>\n",
              "    </tr>\n",
              "    <tr>\n",
              "      <th>6</th>\n",
              "      <td>title_sentiment_polarity</td>\n",
              "      <td>361.473826</td>\n",
              "    </tr>\n",
              "    <tr>\n",
              "      <th>5</th>\n",
              "      <td>is_weekend</td>\n",
              "      <td>623.512383</td>\n",
              "    </tr>\n",
              "    <tr>\n",
              "      <th>9</th>\n",
              "      <td>global_rate_positive_words</td>\n",
              "      <td>2896.209324</td>\n",
              "    </tr>\n",
              "  </tbody>\n",
              "</table>\n",
              "</div>"
            ],
            "text/plain": [
              "                     variable   coeficient\n",
              "7   global_sentiment_polarity  -186.700074\n",
              "0              n_tokens_title   -13.862037\n",
              "1            n_tokens_content    -0.447227\n",
              "2                   num_hrefs    20.026217\n",
              "3                    num_imgs    31.168166\n",
              "4                  num_videos    37.635155\n",
              "8                num_keywords    52.195306\n",
              "6    title_sentiment_polarity   361.473826\n",
              "5                  is_weekend   623.512383\n",
              "9  global_rate_positive_words  2896.209324"
            ]
          },
          "execution_count": 34,
          "metadata": {},
          "output_type": "execute_result"
        }
      ],
      "source": [
        "pd.DataFrame(data=zip(ls_features, linreg.coef_), columns=[\"variable\", \"coeficient\"]).sort_values(by=\"coeficient\")"
      ]
    },
    {
      "cell_type": "code",
      "execution_count": null,
      "id": "49dd75dd-d3ee-464b-8c70-26bd032483c0",
      "metadata": {
        "execution": {
          "iopub.execute_input": "2022-04-27T14:45:58.026997Z",
          "iopub.status.busy": "2022-04-27T14:45:58.026694Z",
          "iopub.status.idle": "2022-04-27T14:45:58.038099Z",
          "shell.execute_reply": "2022-04-27T14:45:58.037535Z",
          "shell.execute_reply.started": "2022-04-27T14:45:58.026965Z"
        },
        "id": "49dd75dd-d3ee-464b-8c70-26bd032483c0",
        "outputId": "b1e4325f-f7c1-4b10-ac75-b37091d4b4b0",
        "tags": []
      },
      "outputs": [
        {
          "data": {
            "text/plain": [
              "count    39247.000000\n",
              "mean         0.119292\n",
              "std          0.096613\n",
              "min         -0.393750\n",
              "25%          0.057887\n",
              "50%          0.119231\n",
              "75%          0.177669\n",
              "max          0.727841\n",
              "Name: global_sentiment_polarity, dtype: float64"
            ]
          },
          "execution_count": 36,
          "metadata": {},
          "output_type": "execute_result"
        }
      ],
      "source": [
        "df[\"global_sentiment_polarity\"].describe()"
      ]
    },
    {
      "cell_type": "code",
      "execution_count": null,
      "id": "b5a900aa-d946-4ee1-a162-f4cdca1babb2",
      "metadata": {
        "execution": {
          "iopub.execute_input": "2022-04-27T14:46:16.488399Z",
          "iopub.status.busy": "2022-04-27T14:46:16.488113Z",
          "iopub.status.idle": "2022-04-27T14:46:16.977159Z",
          "shell.execute_reply": "2022-04-27T14:46:16.976329Z",
          "shell.execute_reply.started": "2022-04-27T14:46:16.488372Z"
        },
        "id": "b5a900aa-d946-4ee1-a162-f4cdca1babb2"
      },
      "outputs": [],
      "source": [
        "df[\"global_sentiment_polarity\"].iplot(kind=\"hist\")"
      ]
    },
    {
      "cell_type": "code",
      "execution_count": null,
      "id": "1046e38d-1064-422d-83ee-66eef6342bbf",
      "metadata": {
        "execution": {
          "iopub.execute_input": "2022-04-27T14:46:36.682802Z",
          "iopub.status.busy": "2022-04-27T14:46:36.682537Z",
          "iopub.status.idle": "2022-04-27T14:46:36.752355Z",
          "shell.execute_reply": "2022-04-27T14:46:36.751546Z",
          "shell.execute_reply.started": "2022-04-27T14:46:36.682777Z"
        },
        "id": "1046e38d-1064-422d-83ee-66eef6342bbf",
        "outputId": "9a569c1d-fc01-4742-d858-b5c72e2a6b44",
        "tags": []
      },
      "outputs": [
        {
          "data": {
            "text/html": [
              "<div>\n",
              "<style scoped>\n",
              "    .dataframe tbody tr th:only-of-type {\n",
              "        vertical-align: middle;\n",
              "    }\n",
              "\n",
              "    .dataframe tbody tr th {\n",
              "        vertical-align: top;\n",
              "    }\n",
              "\n",
              "    .dataframe thead th {\n",
              "        text-align: right;\n",
              "    }\n",
              "</style>\n",
              "<table border=\"1\" class=\"dataframe\">\n",
              "  <thead>\n",
              "    <tr style=\"text-align: right;\">\n",
              "      <th></th>\n",
              "      <th>n_tokens_title</th>\n",
              "      <th>n_tokens_content</th>\n",
              "      <th>num_hrefs</th>\n",
              "      <th>num_imgs</th>\n",
              "      <th>num_videos</th>\n",
              "      <th>is_weekend</th>\n",
              "      <th>title_sentiment_polarity</th>\n",
              "      <th>global_sentiment_polarity</th>\n",
              "      <th>num_keywords</th>\n",
              "      <th>global_rate_positive_words</th>\n",
              "    </tr>\n",
              "  </thead>\n",
              "  <tbody>\n",
              "    <tr>\n",
              "      <th>count</th>\n",
              "      <td>39247.000000</td>\n",
              "      <td>39247.000000</td>\n",
              "      <td>39247.000000</td>\n",
              "      <td>39247.000000</td>\n",
              "      <td>39247.000000</td>\n",
              "      <td>39247.000000</td>\n",
              "      <td>39247.000000</td>\n",
              "      <td>39247.000000</td>\n",
              "      <td>39247.000000</td>\n",
              "      <td>39247.000000</td>\n",
              "    </tr>\n",
              "    <tr>\n",
              "      <th>mean</th>\n",
              "      <td>10.395138</td>\n",
              "      <td>546.870589</td>\n",
              "      <td>10.843045</td>\n",
              "      <td>4.517848</td>\n",
              "      <td>1.244197</td>\n",
              "      <td>0.130914</td>\n",
              "      <td>0.071164</td>\n",
              "      <td>0.119292</td>\n",
              "      <td>7.221673</td>\n",
              "      <td>0.039635</td>\n",
              "    </tr>\n",
              "    <tr>\n",
              "      <th>std</th>\n",
              "      <td>2.112312</td>\n",
              "      <td>470.336701</td>\n",
              "      <td>11.263465</td>\n",
              "      <td>8.285559</td>\n",
              "      <td>4.106577</td>\n",
              "      <td>0.337311</td>\n",
              "      <td>0.264761</td>\n",
              "      <td>0.096613</td>\n",
              "      <td>1.910654</td>\n",
              "      <td>0.017426</td>\n",
              "    </tr>\n",
              "    <tr>\n",
              "      <th>min</th>\n",
              "      <td>2.000000</td>\n",
              "      <td>0.000000</td>\n",
              "      <td>0.000000</td>\n",
              "      <td>0.000000</td>\n",
              "      <td>0.000000</td>\n",
              "      <td>0.000000</td>\n",
              "      <td>-1.000000</td>\n",
              "      <td>-0.393750</td>\n",
              "      <td>1.000000</td>\n",
              "      <td>0.000000</td>\n",
              "    </tr>\n",
              "    <tr>\n",
              "      <th>0%</th>\n",
              "      <td>2.000000</td>\n",
              "      <td>0.000000</td>\n",
              "      <td>0.000000</td>\n",
              "      <td>0.000000</td>\n",
              "      <td>0.000000</td>\n",
              "      <td>0.000000</td>\n",
              "      <td>-1.000000</td>\n",
              "      <td>-0.393750</td>\n",
              "      <td>1.000000</td>\n",
              "      <td>0.000000</td>\n",
              "    </tr>\n",
              "    <tr>\n",
              "      <th>10%</th>\n",
              "      <td>8.000000</td>\n",
              "      <td>153.000000</td>\n",
              "      <td>2.000000</td>\n",
              "      <td>0.000000</td>\n",
              "      <td>0.000000</td>\n",
              "      <td>0.000000</td>\n",
              "      <td>-0.133333</td>\n",
              "      <td>0.000000</td>\n",
              "      <td>5.000000</td>\n",
              "      <td>0.018942</td>\n",
              "    </tr>\n",
              "    <tr>\n",
              "      <th>20%</th>\n",
              "      <td>9.000000</td>\n",
              "      <td>218.000000</td>\n",
              "      <td>4.000000</td>\n",
              "      <td>1.000000</td>\n",
              "      <td>0.000000</td>\n",
              "      <td>0.000000</td>\n",
              "      <td>0.000000</td>\n",
              "      <td>0.041708</td>\n",
              "      <td>5.000000</td>\n",
              "      <td>0.025751</td>\n",
              "    </tr>\n",
              "    <tr>\n",
              "      <th>30%</th>\n",
              "      <td>9.000000</td>\n",
              "      <td>277.000000</td>\n",
              "      <td>5.000000</td>\n",
              "      <td>1.000000</td>\n",
              "      <td>0.000000</td>\n",
              "      <td>0.000000</td>\n",
              "      <td>0.000000</td>\n",
              "      <td>0.072236</td>\n",
              "      <td>6.000000</td>\n",
              "      <td>0.030769</td>\n",
              "    </tr>\n",
              "    <tr>\n",
              "      <th>40%</th>\n",
              "      <td>10.000000</td>\n",
              "      <td>335.000000</td>\n",
              "      <td>6.000000</td>\n",
              "      <td>1.000000</td>\n",
              "      <td>0.000000</td>\n",
              "      <td>0.000000</td>\n",
              "      <td>0.000000</td>\n",
              "      <td>0.096501</td>\n",
              "      <td>7.000000</td>\n",
              "      <td>0.035018</td>\n",
              "    </tr>\n",
              "    <tr>\n",
              "      <th>50%</th>\n",
              "      <td>10.000000</td>\n",
              "      <td>410.000000</td>\n",
              "      <td>7.000000</td>\n",
              "      <td>1.000000</td>\n",
              "      <td>0.000000</td>\n",
              "      <td>0.000000</td>\n",
              "      <td>0.000000</td>\n",
              "      <td>0.119231</td>\n",
              "      <td>7.000000</td>\n",
              "      <td>0.039024</td>\n",
              "    </tr>\n",
              "    <tr>\n",
              "      <th>60%</th>\n",
              "      <td>11.000000</td>\n",
              "      <td>508.000000</td>\n",
              "      <td>9.000000</td>\n",
              "      <td>1.000000</td>\n",
              "      <td>0.000000</td>\n",
              "      <td>0.000000</td>\n",
              "      <td>0.000000</td>\n",
              "      <td>0.140896</td>\n",
              "      <td>8.000000</td>\n",
              "      <td>0.043117</td>\n",
              "    </tr>\n",
              "    <tr>\n",
              "      <th>70%</th>\n",
              "      <td>11.000000</td>\n",
              "      <td>633.000000</td>\n",
              "      <td>12.000000</td>\n",
              "      <td>2.000000</td>\n",
              "      <td>1.000000</td>\n",
              "      <td>0.000000</td>\n",
              "      <td>0.100000</td>\n",
              "      <td>0.164589</td>\n",
              "      <td>8.000000</td>\n",
              "      <td>0.047619</td>\n",
              "    </tr>\n",
              "    <tr>\n",
              "      <th>80%</th>\n",
              "      <td>12.000000</td>\n",
              "      <td>811.000000</td>\n",
              "      <td>16.000000</td>\n",
              "      <td>8.000000</td>\n",
              "      <td>1.000000</td>\n",
              "      <td>0.000000</td>\n",
              "      <td>0.239899</td>\n",
              "      <td>0.192693</td>\n",
              "      <td>9.000000</td>\n",
              "      <td>0.053333</td>\n",
              "    </tr>\n",
              "    <tr>\n",
              "      <th>90%</th>\n",
              "      <td>13.000000</td>\n",
              "      <td>1090.000000</td>\n",
              "      <td>23.000000</td>\n",
              "      <td>14.000000</td>\n",
              "      <td>2.000000</td>\n",
              "      <td>1.000000</td>\n",
              "      <td>0.450000</td>\n",
              "      <td>0.235733</td>\n",
              "      <td>10.000000</td>\n",
              "      <td>0.061321</td>\n",
              "    </tr>\n",
              "    <tr>\n",
              "      <th>max</th>\n",
              "      <td>23.000000</td>\n",
              "      <td>8474.000000</td>\n",
              "      <td>304.000000</td>\n",
              "      <td>128.000000</td>\n",
              "      <td>91.000000</td>\n",
              "      <td>1.000000</td>\n",
              "      <td>1.000000</td>\n",
              "      <td>0.727841</td>\n",
              "      <td>10.000000</td>\n",
              "      <td>0.155488</td>\n",
              "    </tr>\n",
              "  </tbody>\n",
              "</table>\n",
              "</div>"
            ],
            "text/plain": [
              "       n_tokens_title  n_tokens_content     num_hrefs      num_imgs  \\\n",
              "count    39247.000000      39247.000000  39247.000000  39247.000000   \n",
              "mean        10.395138        546.870589     10.843045      4.517848   \n",
              "std          2.112312        470.336701     11.263465      8.285559   \n",
              "min          2.000000          0.000000      0.000000      0.000000   \n",
              "0%           2.000000          0.000000      0.000000      0.000000   \n",
              "10%          8.000000        153.000000      2.000000      0.000000   \n",
              "20%          9.000000        218.000000      4.000000      1.000000   \n",
              "30%          9.000000        277.000000      5.000000      1.000000   \n",
              "40%         10.000000        335.000000      6.000000      1.000000   \n",
              "50%         10.000000        410.000000      7.000000      1.000000   \n",
              "60%         11.000000        508.000000      9.000000      1.000000   \n",
              "70%         11.000000        633.000000     12.000000      2.000000   \n",
              "80%         12.000000        811.000000     16.000000      8.000000   \n",
              "90%         13.000000       1090.000000     23.000000     14.000000   \n",
              "max         23.000000       8474.000000    304.000000    128.000000   \n",
              "\n",
              "         num_videos    is_weekend  title_sentiment_polarity  \\\n",
              "count  39247.000000  39247.000000              39247.000000   \n",
              "mean       1.244197      0.130914                  0.071164   \n",
              "std        4.106577      0.337311                  0.264761   \n",
              "min        0.000000      0.000000                 -1.000000   \n",
              "0%         0.000000      0.000000                 -1.000000   \n",
              "10%        0.000000      0.000000                 -0.133333   \n",
              "20%        0.000000      0.000000                  0.000000   \n",
              "30%        0.000000      0.000000                  0.000000   \n",
              "40%        0.000000      0.000000                  0.000000   \n",
              "50%        0.000000      0.000000                  0.000000   \n",
              "60%        0.000000      0.000000                  0.000000   \n",
              "70%        1.000000      0.000000                  0.100000   \n",
              "80%        1.000000      0.000000                  0.239899   \n",
              "90%        2.000000      1.000000                  0.450000   \n",
              "max       91.000000      1.000000                  1.000000   \n",
              "\n",
              "       global_sentiment_polarity  num_keywords  global_rate_positive_words  \n",
              "count               39247.000000  39247.000000                39247.000000  \n",
              "mean                    0.119292      7.221673                    0.039635  \n",
              "std                     0.096613      1.910654                    0.017426  \n",
              "min                    -0.393750      1.000000                    0.000000  \n",
              "0%                     -0.393750      1.000000                    0.000000  \n",
              "10%                     0.000000      5.000000                    0.018942  \n",
              "20%                     0.041708      5.000000                    0.025751  \n",
              "30%                     0.072236      6.000000                    0.030769  \n",
              "40%                     0.096501      7.000000                    0.035018  \n",
              "50%                     0.119231      7.000000                    0.039024  \n",
              "60%                     0.140896      8.000000                    0.043117  \n",
              "70%                     0.164589      8.000000                    0.047619  \n",
              "80%                     0.192693      9.000000                    0.053333  \n",
              "90%                     0.235733     10.000000                    0.061321  \n",
              "max                     0.727841     10.000000                    0.155488  "
            ]
          },
          "execution_count": 38,
          "metadata": {},
          "output_type": "execute_result"
        }
      ],
      "source": [
        "df[ls_features].describe(percentiles=[x/10 for x in range(10)])"
      ]
    },
    {
      "cell_type": "markdown",
      "id": "525adc25-b683-45af-8932-4a2a894b27cf",
      "metadata": {
        "id": "525adc25-b683-45af-8932-4a2a894b27cf"
      },
      "source": [
        "### Desempeño del modelo"
      ]
    },
    {
      "cell_type": "code",
      "execution_count": null,
      "id": "d6ce613f-1a07-447c-b386-66246923f411",
      "metadata": {
        "execution": {
          "iopub.execute_input": "2022-04-27T14:52:38.923178Z",
          "iopub.status.busy": "2022-04-27T14:52:38.922895Z",
          "iopub.status.idle": "2022-04-27T14:52:38.932447Z",
          "shell.execute_reply": "2022-04-27T14:52:38.931935Z",
          "shell.execute_reply.started": "2022-04-27T14:52:38.923152Z"
        },
        "id": "d6ce613f-1a07-447c-b386-66246923f411",
        "outputId": "2e82643c-d4e2-44a3-8bee-c6636bcbfd7a",
        "tags": []
      },
      "outputs": [
        {
          "data": {
            "text/plain": [
              "count    39247.000000\n",
              "mean      2682.871455\n",
              "std       3646.993331\n",
              "min          1.000000\n",
              "25%        942.000000\n",
              "50%       1400.000000\n",
              "75%       2700.000000\n",
              "max      31600.000000\n",
              "Name: shares, dtype: float64"
            ]
          },
          "execution_count": 42,
          "metadata": {},
          "output_type": "execute_result"
        }
      ],
      "source": [
        "y.describe()"
      ]
    },
    {
      "cell_type": "code",
      "execution_count": null,
      "id": "cc1da79d-cb80-4127-8686-4c614c87cdd9",
      "metadata": {
        "execution": {
          "iopub.execute_input": "2022-04-27T14:52:02.912842Z",
          "iopub.status.busy": "2022-04-27T14:52:02.912311Z",
          "iopub.status.idle": "2022-04-27T14:52:02.967543Z",
          "shell.execute_reply": "2022-04-27T14:52:02.966543Z",
          "shell.execute_reply.started": "2022-04-27T14:52:02.912812Z"
        },
        "id": "cc1da79d-cb80-4127-8686-4c614c87cdd9"
      },
      "outputs": [],
      "source": [
        "y_pred = linreg.predict(X[ls_features])"
      ]
    },
    {
      "cell_type": "code",
      "execution_count": null,
      "id": "192964ff-06ad-4baa-80f8-5a5a125d8c19",
      "metadata": {
        "execution": {
          "iopub.execute_input": "2022-04-27T14:52:11.291750Z",
          "iopub.status.busy": "2022-04-27T14:52:11.291539Z",
          "iopub.status.idle": "2022-04-27T14:52:11.297429Z",
          "shell.execute_reply": "2022-04-27T14:52:11.296896Z",
          "shell.execute_reply.started": "2022-04-27T14:52:11.291726Z"
        },
        "id": "192964ff-06ad-4baa-80f8-5a5a125d8c19",
        "outputId": "ffd85250-1e08-4634-950c-200bddeb1be5",
        "tags": []
      },
      "outputs": [
        {
          "data": {
            "text/plain": [
              "2095.1836449154307"
            ]
          },
          "execution_count": 40,
          "metadata": {},
          "output_type": "execute_result"
        }
      ],
      "source": [
        "(y - y_pred).abs().mean()"
      ]
    },
    {
      "cell_type": "code",
      "execution_count": null,
      "id": "c92e99ce-afac-4c11-8d3b-8ed12e0a0325",
      "metadata": {
        "execution": {
          "iopub.execute_input": "2022-04-27T14:52:50.216062Z",
          "iopub.status.busy": "2022-04-27T14:52:50.215758Z",
          "iopub.status.idle": "2022-04-27T14:52:50.221544Z",
          "shell.execute_reply": "2022-04-27T14:52:50.221010Z",
          "shell.execute_reply.started": "2022-04-27T14:52:50.216034Z"
        },
        "id": "c92e99ce-afac-4c11-8d3b-8ed12e0a0325",
        "outputId": "3ba0484a-6586-4760-d66f-500e4e16dacc",
        "tags": []
      },
      "outputs": [
        {
          "data": {
            "text/plain": [
              "13068012.095028572"
            ]
          },
          "execution_count": 43,
          "metadata": {},
          "output_type": "execute_result"
        }
      ],
      "source": [
        "((y - y_pred)**2).mean()"
      ]
    },
    {
      "cell_type": "code",
      "execution_count": null,
      "id": "d4e9f143-eeca-41d9-a3f5-e5f28d99913f",
      "metadata": {
        "id": "d4e9f143-eeca-41d9-a3f5-e5f28d99913f",
        "tags": []
      },
      "outputs": [],
      "source": [
        "# MAPE: Mean Absolute Percentage Error\n",
        "# PEMA: Porcentaje del Error Medio Absoluto"
      ]
    },
    {
      "cell_type": "markdown",
      "id": "6553a1ee-16b7-4df0-9fd7-296d1dd492a5",
      "metadata": {
        "id": "6553a1ee-16b7-4df0-9fd7-296d1dd492a5"
      },
      "source": [
        "$\\displaystyle{MAPE = 100\\%*\\frac{|y-\\hat{y}|}{y}}$"
      ]
    },
    {
      "cell_type": "code",
      "execution_count": null,
      "id": "8fd2bc19-2a5b-4684-9e9d-a6f0ceba2f20",
      "metadata": {
        "execution": {
          "iopub.execute_input": "2022-04-27T14:53:51.576810Z",
          "iopub.status.busy": "2022-04-27T14:53:51.576520Z",
          "iopub.status.idle": "2022-04-27T14:53:51.583390Z",
          "shell.execute_reply": "2022-04-27T14:53:51.582847Z",
          "shell.execute_reply.started": "2022-04-27T14:53:51.576776Z"
        },
        "id": "8fd2bc19-2a5b-4684-9e9d-a6f0ceba2f20",
        "outputId": "7de8f6ef-a932-4445-8c1d-361486a09413",
        "tags": []
      },
      "outputs": [
        {
          "data": {
            "text/plain": [
              "'147.98%'"
            ]
          },
          "execution_count": 47,
          "metadata": {},
          "output_type": "execute_result"
        }
      ],
      "source": [
        "\"{:,.2%}\".format((abs(y-y_pred)/y).mean())"
      ]
    },
    {
      "cell_type": "code",
      "execution_count": null,
      "id": "cdd462e8-80e6-427e-8298-d83e7a445d8e",
      "metadata": {
        "execution": {
          "iopub.execute_input": "2022-04-27T14:54:02.722471Z",
          "iopub.status.busy": "2022-04-27T14:54:02.722086Z",
          "iopub.status.idle": "2022-04-27T14:54:02.729402Z",
          "shell.execute_reply": "2022-04-27T14:54:02.728717Z",
          "shell.execute_reply.started": "2022-04-27T14:54:02.722436Z"
        },
        "id": "cdd462e8-80e6-427e-8298-d83e7a445d8e",
        "scrolled": true,
        "tags": []
      },
      "outputs": [],
      "source": [
        "r2_score?"
      ]
    },
    {
      "cell_type": "code",
      "execution_count": null,
      "id": "d887c2b6-ee7f-47ed-834a-3c3eb3a300ca",
      "metadata": {
        "execution": {
          "iopub.execute_input": "2022-04-27T14:54:22.542929Z",
          "iopub.status.busy": "2022-04-27T14:54:22.542628Z",
          "iopub.status.idle": "2022-04-27T14:54:22.550475Z",
          "shell.execute_reply": "2022-04-27T14:54:22.549657Z",
          "shell.execute_reply.started": "2022-04-27T14:54:22.542903Z"
        },
        "id": "d887c2b6-ee7f-47ed-834a-3c3eb3a300ca",
        "outputId": "f0903191-42e4-4271-f5ff-d88853ab4512"
      },
      "outputs": [
        {
          "data": {
            "text/plain": [
              "0.017459060002567584"
            ]
          },
          "execution_count": 49,
          "metadata": {},
          "output_type": "execute_result"
        }
      ],
      "source": [
        "r2_score(y_true=y, y_pred=y_pred)"
      ]
    },
    {
      "cell_type": "code",
      "execution_count": null,
      "id": "1c676668-fe4a-48d1-82e6-c5aeffe40f5b",
      "metadata": {
        "execution": {
          "iopub.execute_input": "2022-04-27T14:55:10.368009Z",
          "iopub.status.busy": "2022-04-27T14:55:10.367355Z",
          "iopub.status.idle": "2022-04-27T14:55:10.373727Z",
          "shell.execute_reply": "2022-04-27T14:55:10.373043Z",
          "shell.execute_reply.started": "2022-04-27T14:55:10.367978Z"
        },
        "id": "1c676668-fe4a-48d1-82e6-c5aeffe40f5b",
        "outputId": "bfcbdb99-d3fb-4c0b-e43b-7d174f32b76b",
        "tags": []
      },
      "outputs": [
        {
          "data": {
            "text/plain": [
              "0.0"
            ]
          },
          "execution_count": 50,
          "metadata": {},
          "output_type": "execute_result"
        }
      ],
      "source": [
        "(y==y_pred).mean()"
      ]
    },
    {
      "cell_type": "markdown",
      "id": "1df49a54-1e44-40e6-94c8-d25f4c6d9da8",
      "metadata": {
        "id": "1df49a54-1e44-40e6-94c8-d25f4c6d9da8"
      },
      "source": [
        "### Modelo con todas las variables"
      ]
    },
    {
      "cell_type": "code",
      "execution_count": null,
      "id": "00b5e983-4ee8-4895-b84f-fb7e71bda4c0",
      "metadata": {
        "execution": {
          "iopub.execute_input": "2022-04-27T14:55:25.834106Z",
          "iopub.status.busy": "2022-04-27T14:55:25.832895Z",
          "iopub.status.idle": "2022-04-27T14:55:25.839734Z",
          "shell.execute_reply": "2022-04-27T14:55:25.838168Z",
          "shell.execute_reply.started": "2022-04-27T14:55:25.834030Z"
        },
        "id": "00b5e983-4ee8-4895-b84f-fb7e71bda4c0"
      },
      "outputs": [],
      "source": [
        "linreg = LinearRegression()"
      ]
    },
    {
      "cell_type": "code",
      "execution_count": null,
      "id": "c46b9897-c69e-4794-bf30-d93683dfea21",
      "metadata": {
        "execution": {
          "iopub.execute_input": "2022-04-27T14:55:27.058392Z",
          "iopub.status.busy": "2022-04-27T14:55:27.057669Z",
          "iopub.status.idle": "2022-04-27T14:55:27.253984Z",
          "shell.execute_reply": "2022-04-27T14:55:27.252285Z",
          "shell.execute_reply.started": "2022-04-27T14:55:27.058337Z"
        },
        "id": "c46b9897-c69e-4794-bf30-d93683dfea21",
        "outputId": "7c53213c-810b-48f6-f8c6-b77509da9040"
      },
      "outputs": [
        {
          "data": {
            "text/plain": [
              "LinearRegression()"
            ]
          },
          "execution_count": 52,
          "metadata": {},
          "output_type": "execute_result"
        }
      ],
      "source": [
        "linreg.fit(X, y)"
      ]
    },
    {
      "cell_type": "code",
      "execution_count": null,
      "id": "4453aeb2-7664-4fab-9daf-d1d1dcab864a",
      "metadata": {
        "execution": {
          "iopub.execute_input": "2022-04-27T14:55:27.485259Z",
          "iopub.status.busy": "2022-04-27T14:55:27.484803Z",
          "iopub.status.idle": "2022-04-27T14:55:27.496877Z",
          "shell.execute_reply": "2022-04-27T14:55:27.496192Z",
          "shell.execute_reply.started": "2022-04-27T14:55:27.485221Z"
        },
        "id": "4453aeb2-7664-4fab-9daf-d1d1dcab864a",
        "outputId": "6449ad2b-11b8-42f9-c67f-7742223754d6",
        "tags": []
      },
      "outputs": [
        {
          "data": {
            "text/plain": [
              "0.0685186995685062"
            ]
          },
          "execution_count": 53,
          "metadata": {},
          "output_type": "execute_result"
        }
      ],
      "source": [
        "linreg.score(X, y)"
      ]
    },
    {
      "cell_type": "code",
      "execution_count": null,
      "id": "3f33b346-d77c-45b7-9c0f-2c93146f5aef",
      "metadata": {
        "execution": {
          "iopub.execute_input": "2022-04-27T14:56:32.722815Z",
          "iopub.status.busy": "2022-04-27T14:56:32.722540Z",
          "iopub.status.idle": "2022-04-27T14:56:32.736579Z",
          "shell.execute_reply": "2022-04-27T14:56:32.736008Z",
          "shell.execute_reply.started": "2022-04-27T14:56:32.722790Z"
        },
        "id": "3f33b346-d77c-45b7-9c0f-2c93146f5aef",
        "tags": []
      },
      "outputs": [],
      "source": [
        "pd.DataFrame(data=zip(ls_cont, abs(linreg.coef_)), columns=[\"variable\", \"coeficient\"]).sort_values(by=\"coeficient\")"
      ]
    },
    {
      "cell_type": "code",
      "execution_count": null,
      "id": "6ef693a2-f81a-4555-a1b3-0d7c6900519f",
      "metadata": {
        "execution": {
          "iopub.execute_input": "2022-04-27T14:57:16.374972Z",
          "iopub.status.busy": "2022-04-27T14:57:16.374703Z",
          "iopub.status.idle": "2022-04-27T14:57:16.379699Z",
          "shell.execute_reply": "2022-04-27T14:57:16.379135Z",
          "shell.execute_reply.started": "2022-04-27T14:57:16.374948Z"
        },
        "id": "6ef693a2-f81a-4555-a1b3-0d7c6900519f",
        "tags": []
      },
      "outputs": [],
      "source": [
        "aux = pd.DataFrame(data=zip(ls_cont, linreg.coef_), columns=[\"variable\", \"coeficient\"]).sort_values(by=\"coeficient\")"
      ]
    },
    {
      "cell_type": "code",
      "execution_count": null,
      "id": "af7b056f-3015-4b5d-8298-24d963a01f12",
      "metadata": {
        "execution": {
          "iopub.execute_input": "2022-04-27T14:57:18.263435Z",
          "iopub.status.busy": "2022-04-27T14:57:18.263129Z",
          "iopub.status.idle": "2022-04-27T14:57:18.268082Z",
          "shell.execute_reply": "2022-04-27T14:57:18.267269Z",
          "shell.execute_reply.started": "2022-04-27T14:57:18.263409Z"
        },
        "id": "af7b056f-3015-4b5d-8298-24d963a01f12",
        "tags": []
      },
      "outputs": [],
      "source": [
        "aux[\"coeficient_abs\"] = aux[\"coeficient\"].abs()"
      ]
    },
    {
      "cell_type": "code",
      "execution_count": null,
      "id": "98928be6-e48c-4395-af2e-f0165b036d65",
      "metadata": {
        "execution": {
          "iopub.execute_input": "2022-04-27T14:57:19.526316Z",
          "iopub.status.busy": "2022-04-27T14:57:19.525426Z",
          "iopub.status.idle": "2022-04-27T14:57:19.536480Z",
          "shell.execute_reply": "2022-04-27T14:57:19.534971Z",
          "shell.execute_reply.started": "2022-04-27T14:57:19.526233Z"
        },
        "id": "98928be6-e48c-4395-af2e-f0165b036d65",
        "tags": []
      },
      "outputs": [],
      "source": [
        "ls_best = aux.sort_values(by=\"coeficient_abs\").tail(10)[\"variable\"]"
      ]
    },
    {
      "cell_type": "code",
      "execution_count": null,
      "id": "1e6fb832-e619-479a-9959-1b79627cc826",
      "metadata": {
        "execution": {
          "iopub.execute_input": "2022-04-27T14:57:24.985962Z",
          "iopub.status.busy": "2022-04-27T14:57:24.985691Z",
          "iopub.status.idle": "2022-04-27T14:57:24.991309Z",
          "shell.execute_reply": "2022-04-27T14:57:24.990637Z",
          "shell.execute_reply.started": "2022-04-27T14:57:24.985935Z"
        },
        "id": "1e6fb832-e619-479a-9959-1b79627cc826",
        "outputId": "042bec0a-a838-4f08-a676-736125c3d295"
      },
      "outputs": [
        {
          "data": {
            "text/plain": [
              "3               n_non_stop_words\n",
              "46           rate_positive_words\n",
              "42           global_subjectivity\n",
              "44    global_rate_positive_words\n",
              "45    global_rate_negative_words\n",
              "37                        LDA_00\n",
              "41                        LDA_04\n",
              "40                        LDA_03\n",
              "38                        LDA_01\n",
              "39                        LDA_02\n",
              "Name: variable, dtype: object"
            ]
          },
          "execution_count": 61,
          "metadata": {},
          "output_type": "execute_result"
        }
      ],
      "source": [
        "ls_best"
      ]
    },
    {
      "cell_type": "code",
      "execution_count": null,
      "id": "574fe8e2-844e-441c-8d14-c0eecfcb0f41",
      "metadata": {
        "execution": {
          "iopub.execute_input": "2022-04-27T14:57:28.490716Z",
          "iopub.status.busy": "2022-04-27T14:57:28.490443Z",
          "iopub.status.idle": "2022-04-27T14:57:28.493937Z",
          "shell.execute_reply": "2022-04-27T14:57:28.493311Z",
          "shell.execute_reply.started": "2022-04-27T14:57:28.490686Z"
        },
        "id": "574fe8e2-844e-441c-8d14-c0eecfcb0f41"
      },
      "outputs": [],
      "source": [
        "linreg_ = LinearRegression()"
      ]
    },
    {
      "cell_type": "code",
      "execution_count": null,
      "id": "73930e7c-c784-4109-9f45-f71ea7237e37",
      "metadata": {
        "execution": {
          "iopub.execute_input": "2022-04-27T14:57:28.879853Z",
          "iopub.status.busy": "2022-04-27T14:57:28.879504Z",
          "iopub.status.idle": "2022-04-27T14:57:28.896878Z",
          "shell.execute_reply": "2022-04-27T14:57:28.896241Z",
          "shell.execute_reply.started": "2022-04-27T14:57:28.879825Z"
        },
        "id": "73930e7c-c784-4109-9f45-f71ea7237e37",
        "outputId": "e40551ba-8f04-4a52-a373-9c496d712eb9"
      },
      "outputs": [
        {
          "data": {
            "text/plain": [
              "LinearRegression()"
            ]
          },
          "execution_count": 63,
          "metadata": {},
          "output_type": "execute_result"
        }
      ],
      "source": [
        "linreg_.fit(X[ls_best], y)"
      ]
    },
    {
      "cell_type": "code",
      "execution_count": null,
      "id": "73db2265-6b9a-4c23-8189-acdb495be96b",
      "metadata": {
        "execution": {
          "iopub.execute_input": "2022-04-27T14:57:29.862104Z",
          "iopub.status.busy": "2022-04-27T14:57:29.861781Z",
          "iopub.status.idle": "2022-04-27T14:57:29.876840Z",
          "shell.execute_reply": "2022-04-27T14:57:29.876190Z",
          "shell.execute_reply.started": "2022-04-27T14:57:29.862076Z"
        },
        "id": "73db2265-6b9a-4c23-8189-acdb495be96b",
        "outputId": "00fe1c7b-c247-4b12-8b4a-a7a20fdedf57",
        "tags": []
      },
      "outputs": [
        {
          "data": {
            "text/plain": [
              "0.027828041322779384"
            ]
          },
          "execution_count": 64,
          "metadata": {},
          "output_type": "execute_result"
        }
      ],
      "source": [
        "linreg_.score(X[ls_best], y)"
      ]
    },
    {
      "cell_type": "code",
      "execution_count": null,
      "id": "3cb90c89-de10-4496-bf47-c6d04dce0159",
      "metadata": {
        "execution": {
          "iopub.execute_input": "2022-04-27T14:57:34.751563Z",
          "iopub.status.busy": "2022-04-27T14:57:34.751239Z",
          "iopub.status.idle": "2022-04-27T14:57:34.766071Z",
          "shell.execute_reply": "2022-04-27T14:57:34.765410Z",
          "shell.execute_reply.started": "2022-04-27T14:57:34.751523Z"
        },
        "id": "3cb90c89-de10-4496-bf47-c6d04dce0159",
        "outputId": "35aa3144-29ed-4320-a36b-557ebbbcd8c0",
        "tags": []
      },
      "outputs": [
        {
          "data": {
            "text/html": [
              "<div>\n",
              "<style scoped>\n",
              "    .dataframe tbody tr th:only-of-type {\n",
              "        vertical-align: middle;\n",
              "    }\n",
              "\n",
              "    .dataframe tbody tr th {\n",
              "        vertical-align: top;\n",
              "    }\n",
              "\n",
              "    .dataframe thead th {\n",
              "        text-align: right;\n",
              "    }\n",
              "</style>\n",
              "<table border=\"1\" class=\"dataframe\">\n",
              "  <thead>\n",
              "    <tr style=\"text-align: right;\">\n",
              "      <th></th>\n",
              "      <th>variable</th>\n",
              "      <th>coeficient</th>\n",
              "    </tr>\n",
              "  </thead>\n",
              "  <tbody>\n",
              "    <tr>\n",
              "      <th>9</th>\n",
              "      <td>LDA_02</td>\n",
              "      <td>-2129433.0</td>\n",
              "    </tr>\n",
              "    <tr>\n",
              "      <th>8</th>\n",
              "      <td>LDA_01</td>\n",
              "      <td>-2128942.0</td>\n",
              "    </tr>\n",
              "    <tr>\n",
              "      <th>5</th>\n",
              "      <td>LDA_00</td>\n",
              "      <td>-2128390.0</td>\n",
              "    </tr>\n",
              "    <tr>\n",
              "      <th>6</th>\n",
              "      <td>LDA_04</td>\n",
              "      <td>-2128296.0</td>\n",
              "    </tr>\n",
              "    <tr>\n",
              "      <th>7</th>\n",
              "      <td>LDA_03</td>\n",
              "      <td>-2127479.0</td>\n",
              "    </tr>\n",
              "    <tr>\n",
              "      <th>3</th>\n",
              "      <td>global_rate_positive_words</td>\n",
              "      <td>-2956.0</td>\n",
              "    </tr>\n",
              "    <tr>\n",
              "      <th>0</th>\n",
              "      <td>n_non_stop_words</td>\n",
              "      <td>-2040.0</td>\n",
              "    </tr>\n",
              "    <tr>\n",
              "      <th>1</th>\n",
              "      <td>rate_positive_words</td>\n",
              "      <td>226.0</td>\n",
              "    </tr>\n",
              "    <tr>\n",
              "      <th>2</th>\n",
              "      <td>global_subjectivity</td>\n",
              "      <td>2873.0</td>\n",
              "    </tr>\n",
              "    <tr>\n",
              "      <th>4</th>\n",
              "      <td>global_rate_negative_words</td>\n",
              "      <td>8083.0</td>\n",
              "    </tr>\n",
              "  </tbody>\n",
              "</table>\n",
              "</div>"
            ],
            "text/plain": [
              "                     variable  coeficient\n",
              "9                      LDA_02  -2129433.0\n",
              "8                      LDA_01  -2128942.0\n",
              "5                      LDA_00  -2128390.0\n",
              "6                      LDA_04  -2128296.0\n",
              "7                      LDA_03  -2127479.0\n",
              "3  global_rate_positive_words     -2956.0\n",
              "0            n_non_stop_words     -2040.0\n",
              "1         rate_positive_words       226.0\n",
              "2         global_subjectivity      2873.0\n",
              "4  global_rate_negative_words      8083.0"
            ]
          },
          "execution_count": 65,
          "metadata": {},
          "output_type": "execute_result"
        }
      ],
      "source": [
        "pd.DataFrame(data=zip(ls_best, linreg_.coef_), columns=[\"variable\", \"coeficient\"]).sort_values(by=\"coeficient\").round()"
      ]
    },
    {
      "cell_type": "code",
      "execution_count": null,
      "id": "52745fdc-c655-4812-b985-69a6d4fdd31c",
      "metadata": {
        "execution": {
          "iopub.execute_input": "2022-04-27T14:58:34.544398Z",
          "iopub.status.busy": "2022-04-27T14:58:34.544174Z",
          "iopub.status.idle": "2022-04-27T14:58:34.554449Z",
          "shell.execute_reply": "2022-04-27T14:58:34.553372Z",
          "shell.execute_reply.started": "2022-04-27T14:58:34.544374Z"
        },
        "id": "52745fdc-c655-4812-b985-69a6d4fdd31c",
        "outputId": "4de8368f-8b26-4379-dc06-323c4000fd57",
        "tags": []
      },
      "outputs": [
        {
          "data": {
            "text/plain": [
              "count    39247.000000\n",
              "mean      2682.871455\n",
              "std       3646.993331\n",
              "min          1.000000\n",
              "25%        942.000000\n",
              "50%       1400.000000\n",
              "75%       2700.000000\n",
              "max      31600.000000\n",
              "Name: shares, dtype: float64"
            ]
          },
          "execution_count": 66,
          "metadata": {},
          "output_type": "execute_result"
        }
      ],
      "source": [
        "df[target].describe()"
      ]
    },
    {
      "cell_type": "code",
      "execution_count": null,
      "id": "fd72e1fd-a5e6-403a-9e0d-709d01c8fbbf",
      "metadata": {
        "id": "fd72e1fd-a5e6-403a-9e0d-709d01c8fbbf"
      },
      "outputs": [],
      "source": []
    }
  ],
  "metadata": {
    "colab": {
      "name": "Copia de Análisis de noticias.ipynb",
      "provenance": []
    },
    "kernelspec": {
      "display_name": "Python 3.8.10 64-bit",
      "language": "python",
      "name": "python3"
    },
    "language_info": {
      "codemirror_mode": {
        "name": "ipython",
        "version": 3
      },
      "file_extension": ".py",
      "mimetype": "text/x-python",
      "name": "python",
      "nbconvert_exporter": "python",
      "pygments_lexer": "ipython3",
      "version": "3.8.10"
    },
    "toc-autonumbering": false,
    "vscode": {
      "interpreter": {
        "hash": "916dbcbb3f70747c44a77c7bcd40155683ae19c65e1c03b4aa3499c5328201f1"
      }
    }
  },
  "nbformat": 4,
  "nbformat_minor": 5
}
